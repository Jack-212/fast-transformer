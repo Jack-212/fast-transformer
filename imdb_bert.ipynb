{
 "cells": [
  {
   "cell_type": "code",
   "execution_count": 1,
   "metadata": {},
   "outputs": [],
   "source": [
    "from proc_handler import SeqClassHandler\n",
    "import torch.nn as nn\n",
    "import torch.nn.functional as F\n",
    "from fastai.text import *\n",
    "from pathlib import Path\n",
    "import pandas as pd\n",
    "import apex.optimizers.fused_lamb as LAMB\n",
    "from functools import partial"
   ]
  },
  {
   "cell_type": "code",
   "execution_count": 579,
   "metadata": {},
   "outputs": [],
   "source": [
    "seed = 42\n",
    "bs = 10"
   ]
  },
  {
   "cell_type": "code",
   "execution_count": 580,
   "metadata": {},
   "outputs": [],
   "source": [
    "# Initialise Processors (Tokenize and create Vocab)\n",
    "model_name = 'distilbert-base-uncased'\n",
    "processor = SeqClassHandler(model_name)"
   ]
  },
  {
   "cell_type": "code",
   "execution_count": 581,
   "metadata": {},
   "outputs": [
    {
     "data": {
      "text/plain": [
       "Model: distilbert-base-uncased\n",
       "Original Tokenizer: <transformers.tokenization_distilbert.DistilBertTokenizer object at 0x7f13f8023990>"
      ]
     },
     "execution_count": 581,
     "metadata": {},
     "output_type": "execute_result"
    }
   ],
   "source": [
    "# repr\n",
    "processor"
   ]
  },
  {
   "cell_type": "code",
   "execution_count": 582,
   "metadata": {
    "scrolled": true
   },
   "outputs": [
    {
     "data": {
      "text/html": [
       "<div>\n",
       "<style scoped>\n",
       "    .dataframe tbody tr th:only-of-type {\n",
       "        vertical-align: middle;\n",
       "    }\n",
       "\n",
       "    .dataframe tbody tr th {\n",
       "        vertical-align: top;\n",
       "    }\n",
       "\n",
       "    .dataframe thead th {\n",
       "        text-align: right;\n",
       "    }\n",
       "</style>\n",
       "<table border=\"1\" class=\"dataframe\">\n",
       "  <thead>\n",
       "    <tr style=\"text-align: right;\">\n",
       "      <th></th>\n",
       "      <th>review</th>\n",
       "      <th>sentiment</th>\n",
       "    </tr>\n",
       "  </thead>\n",
       "  <tbody>\n",
       "    <tr>\n",
       "      <th>0</th>\n",
       "      <td>One of the other reviewers has mentioned that ...</td>\n",
       "      <td>positive</td>\n",
       "    </tr>\n",
       "    <tr>\n",
       "      <th>1</th>\n",
       "      <td>A wonderful little production. &lt;br /&gt;&lt;br /&gt;The...</td>\n",
       "      <td>positive</td>\n",
       "    </tr>\n",
       "    <tr>\n",
       "      <th>2</th>\n",
       "      <td>I thought this was a wonderful way to spend ti...</td>\n",
       "      <td>positive</td>\n",
       "    </tr>\n",
       "    <tr>\n",
       "      <th>3</th>\n",
       "      <td>Basically there's a family where a little boy ...</td>\n",
       "      <td>negative</td>\n",
       "    </tr>\n",
       "    <tr>\n",
       "      <th>4</th>\n",
       "      <td>Petter Mattei's \"Love in the Time of Money\" is...</td>\n",
       "      <td>positive</td>\n",
       "    </tr>\n",
       "  </tbody>\n",
       "</table>\n",
       "</div>"
      ],
      "text/plain": [
       "                                              review sentiment\n",
       "0  One of the other reviewers has mentioned that ...  positive\n",
       "1  A wonderful little production. <br /><br />The...  positive\n",
       "2  I thought this was a wonderful way to spend ti...  positive\n",
       "3  Basically there's a family where a little boy ...  negative\n",
       "4  Petter Mattei's \"Love in the Time of Money\" is...  positive"
      ]
     },
     "execution_count": 582,
     "metadata": {},
     "output_type": "execute_result"
    }
   ],
   "source": [
    "# Split train/valid set from df\n",
    "path = Path('./data')\n",
    "data_name = 'IMDB Dataset.csv'\n",
    "base_csv = pd.read_csv(path/data_name)\n",
    "base_csv.head()"
   ]
  },
  {
   "cell_type": "code",
   "execution_count": 583,
   "metadata": {},
   "outputs": [],
   "source": [
    "# TextList and friends (TextDataBunch) require padding token id in the tokenizer vocabulary\n",
    "tok_pad_idx = processor.pt_tokenizer.pad_token_id"
   ]
  },
  {
   "cell_type": "code",
   "execution_count": 584,
   "metadata": {
    "scrolled": false
   },
   "outputs": [],
   "source": [
    "# Load databunch from our DataFrame\n",
    "data =  (TextList.from_df(base_csv, cols='review',processor=processor())\n",
    "        .split_by_rand_pct(0.2,seed = seed)\n",
    "        .label_from_df(cols= 'sentiment')\n",
    "        .databunch(bs = bs, pad_first = False, pad_idx=tok_pad_idx))"
   ]
  },
  {
   "cell_type": "code",
   "execution_count": 585,
   "metadata": {},
   "outputs": [
    {
     "data": {
      "text/plain": [
       "(Text [CLS] one of the other reviewers has mentioned that after watching just 1 oz episode you ' ll be hooked . they are right , as this is exactly what happened with me . < br / > < br / > the first thing that struck me about oz was its brutality and un ##fl ##in ##ching scenes of violence , which set in right from the word go . trust me , this is not a show for the faint hearted or tim ##id . this show pulls no punches with regards to drugs , sex or violence . its is hardcore , in the classic use of the word . < br / > < br / > it is called oz as that is the nickname given to the oswald maximum security state pen ##ite ##nta ##ry . it focuses mainly on emerald city , an experimental section of the prison where all the cells have glass fronts and face inward ##s , so privacy is not high on the agenda . em city is home to many . . aryan ##s , muslims , gangs ##tas , latino ##s , christians , italians , irish and more . . . . so sc ##uf ##fles , death stares , dod ##gy dealings and shady agreements are never far away . < br / > < br / > i would say the main appeal of the show is due to the fact that it goes where other shows wouldn ' t dare . forget pretty pictures painted for mainstream audiences , forget charm , forget romance . . . oz doesn ' t mess around . the first episode i ever saw struck me as so nasty it was surreal , i couldn ' t say i was ready for it , but as i watched more , i developed a taste for oz , and got accustomed to the high levels of graphic violence . not just violence , but injustice ( crooked guards who ' ll be sold out for a nickel , inmates who ' ll kill on order and get away with it , well manner ##ed , middle class inmates being turned into prison bitch ##es due to their lack of street skills or prison experience ) watching oz , you may become comfortable with what is uncomfortable viewing . . . . that ##s if you can get in touch with your darker side . [SEP],\n",
       " Category positive)"
      ]
     },
     "execution_count": 585,
     "metadata": {},
     "output_type": "execute_result"
    }
   ],
   "source": [
    "data.train_ds[0]"
   ]
  },
  {
   "cell_type": "code",
   "execution_count": 586,
   "metadata": {
    "collapsed": true
   },
   "outputs": [
    {
     "data": {
      "text/plain": [
       "CustTransformerModel(\n",
       "  (pt_model): DistilBertForSequenceClassification(\n",
       "    (distilbert): DistilBertModel(\n",
       "      (embeddings): Embeddings(\n",
       "        (word_embeddings): Embedding(30522, 768, padding_idx=0)\n",
       "        (position_embeddings): Embedding(512, 768)\n",
       "        (LayerNorm): LayerNorm((768,), eps=1e-12, elementwise_affine=True)\n",
       "        (dropout): Dropout(p=0.1, inplace=False)\n",
       "      )\n",
       "      (transformer): Transformer(\n",
       "        (layer): ModuleList(\n",
       "          (0): TransformerBlock(\n",
       "            (dropout): Dropout(p=0.1, inplace=False)\n",
       "            (attention): MultiHeadSelfAttention(\n",
       "              (dropout): Dropout(p=0.1, inplace=False)\n",
       "              (q_lin): Linear(in_features=768, out_features=768, bias=True)\n",
       "              (k_lin): Linear(in_features=768, out_features=768, bias=True)\n",
       "              (v_lin): Linear(in_features=768, out_features=768, bias=True)\n",
       "              (out_lin): Linear(in_features=768, out_features=768, bias=True)\n",
       "            )\n",
       "            (sa_layer_norm): LayerNorm((768,), eps=1e-12, elementwise_affine=True)\n",
       "            (ffn): FFN(\n",
       "              (dropout): Dropout(p=0.1, inplace=False)\n",
       "              (lin1): Linear(in_features=768, out_features=3072, bias=True)\n",
       "              (lin2): Linear(in_features=3072, out_features=768, bias=True)\n",
       "            )\n",
       "            (output_layer_norm): LayerNorm((768,), eps=1e-12, elementwise_affine=True)\n",
       "          )\n",
       "          (1): TransformerBlock(\n",
       "            (dropout): Dropout(p=0.1, inplace=False)\n",
       "            (attention): MultiHeadSelfAttention(\n",
       "              (dropout): Dropout(p=0.1, inplace=False)\n",
       "              (q_lin): Linear(in_features=768, out_features=768, bias=True)\n",
       "              (k_lin): Linear(in_features=768, out_features=768, bias=True)\n",
       "              (v_lin): Linear(in_features=768, out_features=768, bias=True)\n",
       "              (out_lin): Linear(in_features=768, out_features=768, bias=True)\n",
       "            )\n",
       "            (sa_layer_norm): LayerNorm((768,), eps=1e-12, elementwise_affine=True)\n",
       "            (ffn): FFN(\n",
       "              (dropout): Dropout(p=0.1, inplace=False)\n",
       "              (lin1): Linear(in_features=768, out_features=3072, bias=True)\n",
       "              (lin2): Linear(in_features=3072, out_features=768, bias=True)\n",
       "            )\n",
       "            (output_layer_norm): LayerNorm((768,), eps=1e-12, elementwise_affine=True)\n",
       "          )\n",
       "          (2): TransformerBlock(\n",
       "            (dropout): Dropout(p=0.1, inplace=False)\n",
       "            (attention): MultiHeadSelfAttention(\n",
       "              (dropout): Dropout(p=0.1, inplace=False)\n",
       "              (q_lin): Linear(in_features=768, out_features=768, bias=True)\n",
       "              (k_lin): Linear(in_features=768, out_features=768, bias=True)\n",
       "              (v_lin): Linear(in_features=768, out_features=768, bias=True)\n",
       "              (out_lin): Linear(in_features=768, out_features=768, bias=True)\n",
       "            )\n",
       "            (sa_layer_norm): LayerNorm((768,), eps=1e-12, elementwise_affine=True)\n",
       "            (ffn): FFN(\n",
       "              (dropout): Dropout(p=0.1, inplace=False)\n",
       "              (lin1): Linear(in_features=768, out_features=3072, bias=True)\n",
       "              (lin2): Linear(in_features=3072, out_features=768, bias=True)\n",
       "            )\n",
       "            (output_layer_norm): LayerNorm((768,), eps=1e-12, elementwise_affine=True)\n",
       "          )\n",
       "          (3): TransformerBlock(\n",
       "            (dropout): Dropout(p=0.1, inplace=False)\n",
       "            (attention): MultiHeadSelfAttention(\n",
       "              (dropout): Dropout(p=0.1, inplace=False)\n",
       "              (q_lin): Linear(in_features=768, out_features=768, bias=True)\n",
       "              (k_lin): Linear(in_features=768, out_features=768, bias=True)\n",
       "              (v_lin): Linear(in_features=768, out_features=768, bias=True)\n",
       "              (out_lin): Linear(in_features=768, out_features=768, bias=True)\n",
       "            )\n",
       "            (sa_layer_norm): LayerNorm((768,), eps=1e-12, elementwise_affine=True)\n",
       "            (ffn): FFN(\n",
       "              (dropout): Dropout(p=0.1, inplace=False)\n",
       "              (lin1): Linear(in_features=768, out_features=3072, bias=True)\n",
       "              (lin2): Linear(in_features=3072, out_features=768, bias=True)\n",
       "            )\n",
       "            (output_layer_norm): LayerNorm((768,), eps=1e-12, elementwise_affine=True)\n",
       "          )\n",
       "          (4): TransformerBlock(\n",
       "            (dropout): Dropout(p=0.1, inplace=False)\n",
       "            (attention): MultiHeadSelfAttention(\n",
       "              (dropout): Dropout(p=0.1, inplace=False)\n",
       "              (q_lin): Linear(in_features=768, out_features=768, bias=True)\n",
       "              (k_lin): Linear(in_features=768, out_features=768, bias=True)\n",
       "              (v_lin): Linear(in_features=768, out_features=768, bias=True)\n",
       "              (out_lin): Linear(in_features=768, out_features=768, bias=True)\n",
       "            )\n",
       "            (sa_layer_norm): LayerNorm((768,), eps=1e-12, elementwise_affine=True)\n",
       "            (ffn): FFN(\n",
       "              (dropout): Dropout(p=0.1, inplace=False)\n",
       "              (lin1): Linear(in_features=768, out_features=3072, bias=True)\n",
       "              (lin2): Linear(in_features=3072, out_features=768, bias=True)\n",
       "            )\n",
       "            (output_layer_norm): LayerNorm((768,), eps=1e-12, elementwise_affine=True)\n",
       "          )\n",
       "          (5): TransformerBlock(\n",
       "            (dropout): Dropout(p=0.1, inplace=False)\n",
       "            (attention): MultiHeadSelfAttention(\n",
       "              (dropout): Dropout(p=0.1, inplace=False)\n",
       "              (q_lin): Linear(in_features=768, out_features=768, bias=True)\n",
       "              (k_lin): Linear(in_features=768, out_features=768, bias=True)\n",
       "              (v_lin): Linear(in_features=768, out_features=768, bias=True)\n",
       "              (out_lin): Linear(in_features=768, out_features=768, bias=True)\n",
       "            )\n",
       "            (sa_layer_norm): LayerNorm((768,), eps=1e-12, elementwise_affine=True)\n",
       "            (ffn): FFN(\n",
       "              (dropout): Dropout(p=0.1, inplace=False)\n",
       "              (lin1): Linear(in_features=768, out_features=3072, bias=True)\n",
       "              (lin2): Linear(in_features=3072, out_features=768, bias=True)\n",
       "            )\n",
       "            (output_layer_norm): LayerNorm((768,), eps=1e-12, elementwise_affine=True)\n",
       "          )\n",
       "        )\n",
       "      )\n",
       "    )\n",
       "    (pre_classifier): Linear(in_features=768, out_features=768, bias=True)\n",
       "    (classifier): Linear(in_features=768, out_features=2, bias=True)\n",
       "    (dropout): Dropout(p=0.2, inplace=False)\n",
       "  )\n",
       ")"
      ]
     },
     "execution_count": 586,
     "metadata": {},
     "output_type": "execute_result"
    }
   ],
   "source": [
    "processor.model"
   ]
  },
  {
   "cell_type": "code",
   "execution_count": 587,
   "metadata": {},
   "outputs": [],
   "source": [
    "# learner initialise\n",
    "lamb_opt = partial(LAMB.FusedLAMB) # set other inputs besides params\n",
    "learner = Learner(data, model = processor.model, opt_func = lamb_opt, metrics = [accuracy, error_rate])"
   ]
  },
  {
   "cell_type": "code",
   "execution_count": 588,
   "metadata": {},
   "outputs": [],
   "source": [
    "embedding_layer = learner.model.pt_model.distilbert.embeddings\n",
    "encoder_blocks = learner.model.pt_model.distilbert.transformer.layer.children()\n",
    "pre_classifier = learner.model.pt_model.pre_classifier\n",
    "split_layers = [embedding_layer, *encoder_blocks, pre_classifier]"
   ]
  },
  {
   "cell_type": "code",
   "execution_count": 589,
   "metadata": {
    "scrolled": false
   },
   "outputs": [
    {
     "data": {
      "text/plain": [
       "8"
      ]
     },
     "execution_count": 589,
     "metadata": {},
     "output_type": "execute_result"
    }
   ],
   "source": [
    "# split layer groups for gradual unfreeze\n",
    "learner.split(split_layers)\n",
    "len(learner.layer_groups)"
   ]
  },
  {
   "cell_type": "code",
   "execution_count": 590,
   "metadata": {},
   "outputs": [],
   "source": [
    "# train\n",
    "learner.save('untrain')"
   ]
  },
  {
   "cell_type": "code",
   "execution_count": 591,
   "metadata": {
    "collapsed": true
   },
   "outputs": [
    {
     "data": {
      "text/plain": [
       "Learner(data=TextClasDataBunch;\n",
       "\n",
       "Train: LabelList (40000 items)\n",
       "x: TextList\n",
       "[CLS] one of the other reviewers has mentioned that after watching just 1 oz episode you ' ll be hooked . they are right , as this is exactly what happened with me . < br / > < br / > the first thing that struck me about oz was its brutality and un ##fl ##in ##ching scenes of violence , which set in right from the word go . trust me , this is not a show for the faint hearted or tim ##id . this show pulls no punches with regards to drugs , sex or violence . its is hardcore , in the classic use of the word . < br / > < br / > it is called oz as that is the nickname given to the oswald maximum security state pen ##ite ##nta ##ry . it focuses mainly on emerald city , an experimental section of the prison where all the cells have glass fronts and face inward ##s , so privacy is not high on the agenda . em city is home to many . . aryan ##s , muslims , gangs ##tas , latino ##s , christians , italians , irish and more . . . . so sc ##uf ##fles , death stares , dod ##gy dealings and shady agreements are never far away . < br / > < br / > i would say the main appeal of the show is due to the fact that it goes where other shows wouldn ' t dare . forget pretty pictures painted for mainstream audiences , forget charm , forget romance . . . oz doesn ' t mess around . the first episode i ever saw struck me as so nasty it was surreal , i couldn ' t say i was ready for it , but as i watched more , i developed a taste for oz , and got accustomed to the high levels of graphic violence . not just violence , but injustice ( crooked guards who ' ll be sold out for a nickel , inmates who ' ll kill on order and get away with it , well manner ##ed , middle class inmates being turned into prison bitch ##es due to their lack of street skills or prison experience ) watching oz , you may become comfortable with what is uncomfortable viewing . . . . that ##s if you can get in touch with your darker side . [SEP],[CLS] a wonderful little production . < br / > < br / > the filming technique is very una ##ss ##uming - very old - time - bbc fashion and gives a comforting , and sometimes discomfort ##ing , sense of realism to the entire piece . < br / > < br / > the actors are extremely well chosen - michael sheen not only \" has got all the polar ##i \" but he has all the voices down pat too ! you can truly see the seam ##less editing guided by the references to williams ' diary entries , not only is it well worth the watching but it is a terrific ##ly written and performed piece . a master ##ful production about one of the great master ' s of comedy and his life . < br / > < br / > the realism really comes home with the little things : the fantasy of the guard which , rather than use the traditional ' dream ' techniques remains solid then disappears . it plays on our knowledge and our senses , particularly with the scenes concerning orton and hall ##i ##well and the sets ( particularly of their flat with hall ##i ##well ' s murals decor ##ating every surface ) are terribly well done . [SEP],[CLS] i thought this was a wonderful way to spend time on a too hot summer weekend , sitting in the air conditioned theater and watching a light - hearted comedy . the plot is sim ##pl ##istic , but the dialogue is witty and the characters are li ##ka ##ble ( even the well bread suspected serial killer ) . while some may be disappointed when they realize this is not match point 2 : risk addiction , i thought it was proof that woody allen is still fully in control of the style many of us have grown to love . < br / > < br / > this was the most i ' d laughed at one of woody ' s comedies in years ( dare i say a decade ? ) . while i ' ve never been impressed with scarlet johan ##son , in this she managed to tone down her \" sexy \" image and jumped right into a average , but spirited young woman . < br / > < br / > this may not be the crown jewel of his career , but it was wit ##tier than \" devil wears pr ##ada \" and more interesting than \" superman \" a great comedy to go see with friends . [SEP],[CLS] basically there ' s a family where a little boy ( jake ) thinks there ' s a zombie in his closet & his parents are fighting all the time . < br / > < br / > this movie is slower than a soap opera . . . and suddenly , jake decides to become ram ##bo and kill the zombie . < br / > < br / > ok , first of all when you ' re going to make a film you must decide if its a thriller or a drama ! as a drama the movie is watch ##able . parents are di ##vor ##cing & arguing like in real life . and then we have jake with his closet which totally ruins all the film ! i expected to see a boo ##ge ##yman similar movie , and instead i watched a drama with some meaningless thriller spots . < br / > < br / > 3 out of 10 just for the well playing parents & descent dial ##og ##s . as for the shots with jake : just ignore them . [SEP],[CLS] probably my all - time favorite movie , a story of self ##lessness , sacrifice and dedication to a noble cause , but it ' s not preach ##y or boring . it just never gets old , despite my having seen it some 15 or more times in the last 25 years . paul lukas ' performance brings tears to my eyes , and bet ##te davis , in one of her very few truly sympathetic roles , is a delight . the kids are , as grandma says , more like \" dressed - up mid ##get ##s \" than children , but that only makes them more fun to watch . and the mother ' s slow awakening to what ' s happening in the world and under her own roof is bel ##ie ##vable and startling . if i had a dozen thumbs , they ' d all be \" up \" for this movie . [SEP]\n",
       "y: CategoryList\n",
       "positive,positive,positive,negative,positive\n",
       "Path: .;\n",
       "\n",
       "Valid: LabelList (10000 items)\n",
       "x: TextList\n",
       "[CLS] i really liked this summers ##lam due to the look of the arena , the curtains and just the look overall was interesting to me for some reason . anyway ##s , this could have been one of the best summers ##lam ' s ever if the wwf didn ' t have lex lu ##ger in the main event against yoko ##zu ##na , now for it ' s time it was ok to have a huge fat man vs a strong man but i ' m glad times have changed . it was a terrible main event just like every match lu ##ger is in is terrible . other matches on the card were razor ramon vs ted di ##bia ##se , steiner brothers vs heavenly bodies , shawn michaels vs curt hen ##ing , this was the event where shawn named his big monster of a body guard diesel , irs vs 1 - 2 - 3 kid , bret hart first takes on doin ##k then takes on jerry law ##ler and stuff with the hart ##s and law ##ler was always very interesting , then lu ##d ##vi ##g borg ##a destroyed marty jan ##nett ##y , undertaker took on giant gonzalez in another terrible match , the smoking gunn ##s and tata ##nka took on bam bam big ##elo ##w and the heads ##hri ##nk ##ers , and yoko ##zu ##na defended the world title against lex lu ##ger this match was boring and it has a terrible ending . however it deserves 8 / 10 [SEP],[CLS] not many television shows appeal to quite as many different kinds of fans like far ##sca ##pe does . . . i know young ##sters and 30 / 40 + years old ; fans both male and female in as many different countries as you can think of that just ad ##ore this t . v miniseries . it has elements that can be found in almost every other show on t . v , character driven drama that could be from an australian soap opera ; yet in the same episode it has science fact & fiction that would give even the hard ##iest \" trek ##kie \" a run for his money in the brain ##ben ##der stakes ! worm ##hole theory , time travel in true equation ##al form . . . magnificent . it embrace ##s cultures from all over the map as the possibilities are endless having multiple stars and therefore thousands of planets to choose from . < br / > < br / > with such a broad scope ; it would be expected that nothing would be able to keep up the illusion for long , but here is where \" far ##sca ##pe \" really comes into it ' s own element . . . it succeeds where all others have failed , especially the likes of star trek ( a universe with practically zero ka ##os element ! ) they ran out of ideas pretty quickly + kept re ##has ##hing them ! over the course of 4 seasons they manage to keep the audience ' s attention using good continuity and constant character evolution with multiple threads to every episode with unique personal touches to camera that are specific to certain character groups within the whole . this structure allows for an extremely large area of subject matter as loyal ##ties are forged and broken in many ways on many many issues . i happened to see the pilot ( premiere ) in passing and just had to keep tuning in after that to see if cr ##ich ##ton would ever \" get the girl \" , after seeing them all on television i was delighted to see them available on dvd & i have to admit that it was the only thing that kept me sane whilst i had to do a 12 hour night shift and developed chronic ins ##om ##nia . . . far ##sca ##pe was the only thing to get me through those extremely long nights . . . < br / > < br / > do yourself a favour ; watch the pilot and see what i mean . . . < br / > < br / > far ##sca ##pe comet [SEP],[CLS] the film quickly gets to a major chase scene with ever increasing destruction . the first really bad thing is the guy hi ##jack ##ing steven sea ##gal would have been beaten to pulp by sea ##gal ' s driving , but that probably would have ended the whole premise for the movie . < br / > < br / > it seems like they decided to make all kinds of changes in the movie plot , so just plan to enjoy the action , and do not expect a coherent plot . turn any sense of logic you may have , it will reduce your chance of getting a headache . < br / > < br / > i does give me some hope that steven sea ##gal is trying to move back towards the type of characters he portrayed in his more popular movies . [SEP],[CLS] jane austen would definitely approve of this one ! < br / > < br / > g ##wyn ##eth pal ##tro ##w does an awesome job capturing the attitude of emma . she is funny without being excessive ##ly silly , yet elegant . she puts on a very convincing british accent ( not being british myself , maybe i ' m not the best judge , but she fooled me . . . she was also excellent in \" sliding doors \" . . . i sometimes forget she ' s american ~ ! ) . < br / > < br / > also brilliant are jeremy north ##am and sophie thompson and ph ##yl ##lid ##a law ( emma thompson ' s sister and mother ) as the bates women . they nearly steal the show . . . and ms . law doesn ' t even have any lines ! < br / > < br / > highly recommended . [SEP],[CLS] expectations were somewhat high for me when i went to see this movie , after all i thought steve care ##ll could do no wrong coming off of great movies like anchor ##man , the 40 year - old virgin , and little miss sunshine . boy , was i wrong . < br / > < br / > i ' ll start with what is right with this movie : at certain points steve care ##ll is allowed to be steve care ##ll . there are a handful of moments in the film that made me laugh , and it ' s due almost entirely to him being given the wig ##gle - room to do his thing . he ' s an undoubtedly talented individual , and it ' s a shame that he signed on to what turned out to be , in my opinion , a total train - wreck . < br / > < br / > with that out of the way , i ' ll discuss what went ho ##rri ##fying ##ly wrong . < br / > < br / > the film begins with dan burns , a widow ##er with three girls who is being considered for a nationally syndicated advice column . he prepares his girls for a family reunion , where his extended relatives gather for some time with each other . < br / > < br / > the family is high atop the list of things that make this an awful movie . no family behave ##s like this . it ' s almost as if they ' ve been transported from pleasant ##ville or leave it to beaver . they are a car ##ica ##ture of what we think a family is when we ' re 7 . it reaches the point where they become ob ##no ##xious and simply frustrating . touch football , cross ##word puzzle competitions , family bowling , and talent shows are not how actual people behave . it ' s almost sick ##ening . < br / > < br / > another big flaw is the woman care ##ll is supposed to be falling for . observing her in her first scene with steve care ##ll is like watching a stroke victim trying to be rehab ##ili ##tated . what i imagine is supposed to be unique and original in this woman comes off as mildly re ##tar ##ded . < br / > < br / > it makes me think that this movie is taking place on another planet . i left the theater wondering what i just saw . after thinking further , i don ' t think it was much . [SEP]\n",
       "y: CategoryList\n",
       "positive,positive,negative,positive,negative\n",
       "Path: .;\n",
       "\n",
       "Test: None, model=CustTransformerModel(\n",
       "  (pt_model): DistilBertForSequenceClassification(\n",
       "    (distilbert): DistilBertModel(\n",
       "      (embeddings): Embeddings(\n",
       "        (word_embeddings): Embedding(30522, 768, padding_idx=0)\n",
       "        (position_embeddings): Embedding(512, 768)\n",
       "        (LayerNorm): LayerNorm((768,), eps=1e-12, elementwise_affine=True)\n",
       "        (dropout): Dropout(p=0.1, inplace=False)\n",
       "      )\n",
       "      (transformer): Transformer(\n",
       "        (layer): ModuleList(\n",
       "          (0): TransformerBlock(\n",
       "            (dropout): Dropout(p=0.1, inplace=False)\n",
       "            (attention): MultiHeadSelfAttention(\n",
       "              (dropout): Dropout(p=0.1, inplace=False)\n",
       "              (q_lin): Linear(in_features=768, out_features=768, bias=True)\n",
       "              (k_lin): Linear(in_features=768, out_features=768, bias=True)\n",
       "              (v_lin): Linear(in_features=768, out_features=768, bias=True)\n",
       "              (out_lin): Linear(in_features=768, out_features=768, bias=True)\n",
       "            )\n",
       "            (sa_layer_norm): LayerNorm((768,), eps=1e-12, elementwise_affine=True)\n",
       "            (ffn): FFN(\n",
       "              (dropout): Dropout(p=0.1, inplace=False)\n",
       "              (lin1): Linear(in_features=768, out_features=3072, bias=True)\n",
       "              (lin2): Linear(in_features=3072, out_features=768, bias=True)\n",
       "            )\n",
       "            (output_layer_norm): LayerNorm((768,), eps=1e-12, elementwise_affine=True)\n",
       "          )\n",
       "          (1): TransformerBlock(\n",
       "            (dropout): Dropout(p=0.1, inplace=False)\n",
       "            (attention): MultiHeadSelfAttention(\n",
       "              (dropout): Dropout(p=0.1, inplace=False)\n",
       "              (q_lin): Linear(in_features=768, out_features=768, bias=True)\n",
       "              (k_lin): Linear(in_features=768, out_features=768, bias=True)\n",
       "              (v_lin): Linear(in_features=768, out_features=768, bias=True)\n",
       "              (out_lin): Linear(in_features=768, out_features=768, bias=True)\n",
       "            )\n",
       "            (sa_layer_norm): LayerNorm((768,), eps=1e-12, elementwise_affine=True)\n",
       "            (ffn): FFN(\n",
       "              (dropout): Dropout(p=0.1, inplace=False)\n",
       "              (lin1): Linear(in_features=768, out_features=3072, bias=True)\n",
       "              (lin2): Linear(in_features=3072, out_features=768, bias=True)\n",
       "            )\n",
       "            (output_layer_norm): LayerNorm((768,), eps=1e-12, elementwise_affine=True)\n",
       "          )\n",
       "          (2): TransformerBlock(\n",
       "            (dropout): Dropout(p=0.1, inplace=False)\n",
       "            (attention): MultiHeadSelfAttention(\n",
       "              (dropout): Dropout(p=0.1, inplace=False)\n",
       "              (q_lin): Linear(in_features=768, out_features=768, bias=True)\n",
       "              (k_lin): Linear(in_features=768, out_features=768, bias=True)\n",
       "              (v_lin): Linear(in_features=768, out_features=768, bias=True)\n",
       "              (out_lin): Linear(in_features=768, out_features=768, bias=True)\n",
       "            )\n",
       "            (sa_layer_norm): LayerNorm((768,), eps=1e-12, elementwise_affine=True)\n",
       "            (ffn): FFN(\n",
       "              (dropout): Dropout(p=0.1, inplace=False)\n",
       "              (lin1): Linear(in_features=768, out_features=3072, bias=True)\n",
       "              (lin2): Linear(in_features=3072, out_features=768, bias=True)\n",
       "            )\n",
       "            (output_layer_norm): LayerNorm((768,), eps=1e-12, elementwise_affine=True)\n",
       "          )\n",
       "          (3): TransformerBlock(\n",
       "            (dropout): Dropout(p=0.1, inplace=False)\n",
       "            (attention): MultiHeadSelfAttention(\n",
       "              (dropout): Dropout(p=0.1, inplace=False)\n",
       "              (q_lin): Linear(in_features=768, out_features=768, bias=True)\n",
       "              (k_lin): Linear(in_features=768, out_features=768, bias=True)\n",
       "              (v_lin): Linear(in_features=768, out_features=768, bias=True)\n",
       "              (out_lin): Linear(in_features=768, out_features=768, bias=True)\n",
       "            )\n",
       "            (sa_layer_norm): LayerNorm((768,), eps=1e-12, elementwise_affine=True)\n",
       "            (ffn): FFN(\n",
       "              (dropout): Dropout(p=0.1, inplace=False)\n",
       "              (lin1): Linear(in_features=768, out_features=3072, bias=True)\n",
       "              (lin2): Linear(in_features=3072, out_features=768, bias=True)\n",
       "            )\n",
       "            (output_layer_norm): LayerNorm((768,), eps=1e-12, elementwise_affine=True)\n",
       "          )\n",
       "          (4): TransformerBlock(\n",
       "            (dropout): Dropout(p=0.1, inplace=False)\n",
       "            (attention): MultiHeadSelfAttention(\n",
       "              (dropout): Dropout(p=0.1, inplace=False)\n",
       "              (q_lin): Linear(in_features=768, out_features=768, bias=True)\n",
       "              (k_lin): Linear(in_features=768, out_features=768, bias=True)\n",
       "              (v_lin): Linear(in_features=768, out_features=768, bias=True)\n",
       "              (out_lin): Linear(in_features=768, out_features=768, bias=True)\n",
       "            )\n",
       "            (sa_layer_norm): LayerNorm((768,), eps=1e-12, elementwise_affine=True)\n",
       "            (ffn): FFN(\n",
       "              (dropout): Dropout(p=0.1, inplace=False)\n",
       "              (lin1): Linear(in_features=768, out_features=3072, bias=True)\n",
       "              (lin2): Linear(in_features=3072, out_features=768, bias=True)\n",
       "            )\n",
       "            (output_layer_norm): LayerNorm((768,), eps=1e-12, elementwise_affine=True)\n",
       "          )\n",
       "          (5): TransformerBlock(\n",
       "            (dropout): Dropout(p=0.1, inplace=False)\n",
       "            (attention): MultiHeadSelfAttention(\n",
       "              (dropout): Dropout(p=0.1, inplace=False)\n",
       "              (q_lin): Linear(in_features=768, out_features=768, bias=True)\n",
       "              (k_lin): Linear(in_features=768, out_features=768, bias=True)\n",
       "              (v_lin): Linear(in_features=768, out_features=768, bias=True)\n",
       "              (out_lin): Linear(in_features=768, out_features=768, bias=True)\n",
       "            )\n",
       "            (sa_layer_norm): LayerNorm((768,), eps=1e-12, elementwise_affine=True)\n",
       "            (ffn): FFN(\n",
       "              (dropout): Dropout(p=0.1, inplace=False)\n",
       "              (lin1): Linear(in_features=768, out_features=3072, bias=True)\n",
       "              (lin2): Linear(in_features=3072, out_features=768, bias=True)\n",
       "            )\n",
       "            (output_layer_norm): LayerNorm((768,), eps=1e-12, elementwise_affine=True)\n",
       "          )\n",
       "        )\n",
       "      )\n",
       "    )\n",
       "    (pre_classifier): Linear(in_features=768, out_features=768, bias=True)\n",
       "    (classifier): Linear(in_features=768, out_features=2, bias=True)\n",
       "    (dropout): Dropout(p=0.2, inplace=False)\n",
       "  )\n",
       "), opt_func=functools.partial(<class 'apex.optimizers.fused_lamb.FusedLAMB'>), loss_func=FlattenedLoss of CrossEntropyLoss(), metrics=[<function accuracy at 0x7f146eceb7a0>, <function error_rate at 0x7f146eceb9e0>], true_wd=True, bn_wd=True, wd=0.01, train_bn=True, path=PosixPath('.'), model_dir='models', callback_fns=[functools.partial(<class 'fastai.basic_train.Recorder'>, add_time=True, silent=False)], callbacks=[], layer_groups=[Sequential(\n",
       "  (0): Embedding(30522, 768, padding_idx=0)\n",
       "  (1): Embedding(512, 768)\n",
       "  (2): LayerNorm((768,), eps=1e-12, elementwise_affine=True)\n",
       "  (3): Dropout(p=0.1, inplace=False)\n",
       "), Sequential(\n",
       "  (0): Dropout(p=0.1, inplace=False)\n",
       "  (1): Dropout(p=0.1, inplace=False)\n",
       "  (2): Linear(in_features=768, out_features=768, bias=True)\n",
       "  (3): Linear(in_features=768, out_features=768, bias=True)\n",
       "  (4): Linear(in_features=768, out_features=768, bias=True)\n",
       "  (5): Linear(in_features=768, out_features=768, bias=True)\n",
       "  (6): LayerNorm((768,), eps=1e-12, elementwise_affine=True)\n",
       "  (7): Dropout(p=0.1, inplace=False)\n",
       "  (8): Linear(in_features=768, out_features=3072, bias=True)\n",
       "  (9): Linear(in_features=3072, out_features=768, bias=True)\n",
       "  (10): LayerNorm((768,), eps=1e-12, elementwise_affine=True)\n",
       "), Sequential(\n",
       "  (0): Dropout(p=0.1, inplace=False)\n",
       "  (1): Dropout(p=0.1, inplace=False)\n",
       "  (2): Linear(in_features=768, out_features=768, bias=True)\n",
       "  (3): Linear(in_features=768, out_features=768, bias=True)\n",
       "  (4): Linear(in_features=768, out_features=768, bias=True)\n",
       "  (5): Linear(in_features=768, out_features=768, bias=True)\n",
       "  (6): LayerNorm((768,), eps=1e-12, elementwise_affine=True)\n",
       "  (7): Dropout(p=0.1, inplace=False)\n",
       "  (8): Linear(in_features=768, out_features=3072, bias=True)\n",
       "  (9): Linear(in_features=3072, out_features=768, bias=True)\n",
       "  (10): LayerNorm((768,), eps=1e-12, elementwise_affine=True)\n",
       "), Sequential(\n",
       "  (0): Dropout(p=0.1, inplace=False)\n",
       "  (1): Dropout(p=0.1, inplace=False)\n",
       "  (2): Linear(in_features=768, out_features=768, bias=True)\n",
       "  (3): Linear(in_features=768, out_features=768, bias=True)\n",
       "  (4): Linear(in_features=768, out_features=768, bias=True)\n",
       "  (5): Linear(in_features=768, out_features=768, bias=True)\n",
       "  (6): LayerNorm((768,), eps=1e-12, elementwise_affine=True)\n",
       "  (7): Dropout(p=0.1, inplace=False)\n",
       "  (8): Linear(in_features=768, out_features=3072, bias=True)\n",
       "  (9): Linear(in_features=3072, out_features=768, bias=True)\n",
       "  (10): LayerNorm((768,), eps=1e-12, elementwise_affine=True)\n",
       "), Sequential(\n",
       "  (0): Dropout(p=0.1, inplace=False)\n",
       "  (1): Dropout(p=0.1, inplace=False)\n",
       "  (2): Linear(in_features=768, out_features=768, bias=True)\n",
       "  (3): Linear(in_features=768, out_features=768, bias=True)\n",
       "  (4): Linear(in_features=768, out_features=768, bias=True)\n",
       "  (5): Linear(in_features=768, out_features=768, bias=True)\n",
       "  (6): LayerNorm((768,), eps=1e-12, elementwise_affine=True)\n",
       "  (7): Dropout(p=0.1, inplace=False)\n",
       "  (8): Linear(in_features=768, out_features=3072, bias=True)\n",
       "  (9): Linear(in_features=3072, out_features=768, bias=True)\n",
       "  (10): LayerNorm((768,), eps=1e-12, elementwise_affine=True)\n",
       "), Sequential(\n",
       "  (0): Dropout(p=0.1, inplace=False)\n",
       "  (1): Dropout(p=0.1, inplace=False)\n",
       "  (2): Linear(in_features=768, out_features=768, bias=True)\n",
       "  (3): Linear(in_features=768, out_features=768, bias=True)\n",
       "  (4): Linear(in_features=768, out_features=768, bias=True)\n",
       "  (5): Linear(in_features=768, out_features=768, bias=True)\n",
       "  (6): LayerNorm((768,), eps=1e-12, elementwise_affine=True)\n",
       "  (7): Dropout(p=0.1, inplace=False)\n",
       "  (8): Linear(in_features=768, out_features=3072, bias=True)\n",
       "  (9): Linear(in_features=3072, out_features=768, bias=True)\n",
       "  (10): LayerNorm((768,), eps=1e-12, elementwise_affine=True)\n",
       "), Sequential(\n",
       "  (0): Dropout(p=0.1, inplace=False)\n",
       "  (1): Dropout(p=0.1, inplace=False)\n",
       "  (2): Linear(in_features=768, out_features=768, bias=True)\n",
       "  (3): Linear(in_features=768, out_features=768, bias=True)\n",
       "  (4): Linear(in_features=768, out_features=768, bias=True)\n",
       "  (5): Linear(in_features=768, out_features=768, bias=True)\n",
       "  (6): LayerNorm((768,), eps=1e-12, elementwise_affine=True)\n",
       "  (7): Dropout(p=0.1, inplace=False)\n",
       "  (8): Linear(in_features=768, out_features=3072, bias=True)\n",
       "  (9): Linear(in_features=3072, out_features=768, bias=True)\n",
       "  (10): LayerNorm((768,), eps=1e-12, elementwise_affine=True)\n",
       "), Sequential(\n",
       "  (0): Linear(in_features=768, out_features=768, bias=True)\n",
       "  (1): Linear(in_features=768, out_features=2, bias=True)\n",
       "  (2): Dropout(p=0.2, inplace=False)\n",
       ")], add_time=True, silent=False)"
      ]
     },
     "execution_count": 591,
     "metadata": {},
     "output_type": "execute_result"
    }
   ],
   "source": [
    "learner.load('untrain')"
   ]
  },
  {
   "cell_type": "code",
   "execution_count": 592,
   "metadata": {},
   "outputs": [],
   "source": [
    "# freeze to last layer group. all parameters past this group keep requires_grad = True\n",
    "learner.freeze_to(-1) "
   ]
  },
  {
   "cell_type": "code",
   "execution_count": 593,
   "metadata": {
    "scrolled": true
   },
   "outputs": [
    {
     "data": {
      "text/html": [],
      "text/plain": [
       "<IPython.core.display.HTML object>"
      ]
     },
     "metadata": {},
     "output_type": "display_data"
    },
    {
     "name": "stdout",
     "output_type": "stream",
     "text": [
      "LR Finder is complete, type {learner_name}.recorder.plot() to see the graph.\n",
      "Min numerical gradient: 2.09E-01\n",
      "Min loss divided by 10: 2.75E-03\n"
     ]
    },
    {
     "data": {
      "image/png": "[encoded data removed]",
      "text/plain": [
       "<Figure size 432x288 with 1 Axes>"
      ]
     },
     "metadata": {
      "needs_background": "light"
     },
     "output_type": "display_data"
    }
   ],
   "source": [
    "learner.lr_find()\n",
    "learner.recorder.plot(suggestion=True)"
   ]
  },
  {
   "cell_type": "code",
   "execution_count": 594,
   "metadata": {},
   "outputs": [
    {
     "data": {
      "text/html": [
       "<table border=\"1\" class=\"dataframe\">\n",
       "  <thead>\n",
       "    <tr style=\"text-align: left;\">\n",
       "      <th>epoch</th>\n",
       "      <th>train_loss</th>\n",
       "      <th>valid_loss</th>\n",
       "      <th>accuracy</th>\n",
       "      <th>error_rate</th>\n",
       "      <th>time</th>\n",
       "    </tr>\n",
       "  </thead>\n",
       "  <tbody>\n",
       "    <tr>\n",
       "      <td>0</td>\n",
       "      <td>0.318150</td>\n",
       "      <td>0.326867</td>\n",
       "      <td>0.863400</td>\n",
       "      <td>0.136600</td>\n",
       "      <td>09:30</td>\n",
       "    </tr>\n",
       "  </tbody>\n",
       "</table>"
      ],
      "text/plain": [
       "<IPython.core.display.HTML object>"
      ]
     },
     "metadata": {},
     "output_type": "display_data"
    }
   ],
   "source": [
    "learner.fit_one_cycle(1,max_lr=1e-02)"
   ]
  },
  {
   "cell_type": "code",
   "execution_count": 595,
   "metadata": {},
   "outputs": [],
   "source": [
    "learner.save('run_1')"
   ]
  },
  {
   "cell_type": "code",
   "execution_count": 596,
   "metadata": {},
   "outputs": [],
   "source": [
    "learner.freeze_to(-2)"
   ]
  },
  {
   "cell_type": "code",
   "execution_count": 597,
   "metadata": {},
   "outputs": [
    {
     "data": {
      "text/html": [],
      "text/plain": [
       "<IPython.core.display.HTML object>"
      ]
     },
     "metadata": {},
     "output_type": "display_data"
    },
    {
     "name": "stdout",
     "output_type": "stream",
     "text": [
      "LR Finder is complete, type {learner_name}.recorder.plot() to see the graph.\n"
     ]
    }
   ],
   "source": [
    "learner.lr_find()"
   ]
  },
  {
   "cell_type": "code",
   "execution_count": 598,
   "metadata": {},
   "outputs": [
    {
     "name": "stdout",
     "output_type": "stream",
     "text": [
      "Min numerical gradient: 2.75E-06\n",
      "Min loss divided by 10: 7.59E-08\n"
     ]
    },
    {
     "data": {
      "image/png": "[encoded data removed]",
      "text/plain": [
       "<Figure size 432x288 with 1 Axes>"
      ]
     },
     "metadata": {
      "needs_background": "light"
     },
     "output_type": "display_data"
    }
   ],
   "source": [
    "learner.recorder.plot(suggestion=True)"
   ]
  },
  {
   "cell_type": "code",
   "execution_count": 599,
   "metadata": {},
   "outputs": [
    {
     "data": {
      "text/html": [
       "<table border=\"1\" class=\"dataframe\">\n",
       "  <thead>\n",
       "    <tr style=\"text-align: left;\">\n",
       "      <th>epoch</th>\n",
       "      <th>train_loss</th>\n",
       "      <th>valid_loss</th>\n",
       "      <th>accuracy</th>\n",
       "      <th>error_rate</th>\n",
       "      <th>time</th>\n",
       "    </tr>\n",
       "  </thead>\n",
       "  <tbody>\n",
       "    <tr>\n",
       "      <td>0</td>\n",
       "      <td>0.331895</td>\n",
       "      <td>0.263238</td>\n",
       "      <td>0.901700</td>\n",
       "      <td>0.098300</td>\n",
       "      <td>11:40</td>\n",
       "    </tr>\n",
       "  </tbody>\n",
       "</table>"
      ],
      "text/plain": [
       "<IPython.core.display.HTML object>"
      ]
     },
     "metadata": {},
     "output_type": "display_data"
    }
   ],
   "source": [
    "learner.fit_one_cycle(1,max_lr=slice(1e-6,1e-4))"
   ]
  },
  {
   "cell_type": "code",
   "execution_count": 601,
   "metadata": {},
   "outputs": [],
   "source": [
    "learner.save('run_2')"
   ]
  }
 ],
 "metadata": {
  "kernelspec": {
   "display_name": "Python 3",
   "language": "python",
   "name": "python3"
  },
  "language_info": {
   "codemirror_mode": {
    "name": "ipython",
    "version": 3
   },
   "file_extension": ".py",
   "mimetype": "text/x-python",
   "name": "python",
   "nbconvert_exporter": "python",
   "pygments_lexer": "ipython3",
   "version": "3.7.5"
  },
  "latex_envs": {
   "LaTeX_envs_menu_present": true,
   "autoclose": false,
   "autocomplete": true,
   "bibliofile": "biblio.bib",
   "cite_by": "apalike",
   "current_citInitial": 1,
   "eqLabelWithNumbers": true,
   "eqNumInitial": 1,
   "hotkeys": {
    "equation": "Ctrl-E",
    "itemize": "Ctrl-I"
   },
   "labels_anchors": false,
   "latex_user_defs": false,
   "report_style_numbering": false,
   "user_envs_cfg": false
  }
 },
 "nbformat": 4,
 "nbformat_minor": 2
}
